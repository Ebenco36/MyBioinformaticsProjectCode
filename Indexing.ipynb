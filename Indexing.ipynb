{
 "cells": [
  {
   "cell_type": "code",
   "execution_count": 2,
   "metadata": {},
   "outputs": [],
   "source": [
    "import bisect"
   ]
  },
  {
   "cell_type": "code",
   "execution_count": 21,
   "metadata": {},
   "outputs": [],
   "source": [
    "class Index(object):\n",
    "    def __init__(self, t, k):\n",
    "        self.k = k\n",
    "        self.index = []\n",
    "        for i in range(len(t) - k + 1):\n",
    "            self.index.append((t[i:i+k], i))\n",
    "        self.index.sort()\n",
    "    def indexTable(self):\n",
    "        return self.index\n",
    "    def query(self, p):\n",
    "        kmer = p[:self.k]\n",
    "        i = bisect.bisect_left(self.index, (kmer, -1))\n",
    "        hits = []\n",
    "        while i < len(self.index):\n",
    "            if self.index[i][0] != kmer:\n",
    "                break\n",
    "            hits.append(self.index[i][1])\n",
    "            i += 1\n",
    "        return hits"
   ]
  },
  {
   "cell_type": "code",
   "execution_count": 22,
   "metadata": {},
   "outputs": [],
   "source": [
    "def queryIndex(p, t, index):\n",
    "    k = index.k\n",
    "    offsets = []\n",
    "    for i in index.query(p):\n",
    "        if p[k:] == t[i+k:i+len(p)]:\n",
    "            offsets.append(i)\n",
    "    return offsets"
   ]
  },
  {
   "cell_type": "code",
   "execution_count": 26,
   "metadata": {},
   "outputs": [],
   "source": [
    "# Example\n",
    "t = \"GACTAGCTAGGGACGATGGGACCCAGTAAGACCATTAGAGACCCCAAAAGATTAG\"\n",
    "p = \"GAC\""
   ]
  },
  {
   "cell_type": "code",
   "execution_count": 27,
   "metadata": {},
   "outputs": [
    {
     "name": "stdout",
     "output_type": "stream",
     "text": [
      "[0, 11, 19, 29, 39]\n"
     ]
    }
   ],
   "source": [
    "index = Index(t, 2)\n",
    "print(queryIndex(p, t, index))"
   ]
  },
  {
   "cell_type": "code",
   "execution_count": 28,
   "metadata": {},
   "outputs": [
    {
     "name": "stdout",
     "output_type": "stream",
     "text": [
      "[('AA', 27), ('AA', 45), ('AA', 46), ('AA', 47), ('AC', 1), ('AC', 12), ('AC', 20), ('AC', 30), ('AC', 40), ('AG', 4), ('AG', 8), ('AG', 24), ('AG', 28), ('AG', 36), ('AG', 38), ('AG', 48), ('AG', 53), ('AT', 15), ('AT', 33), ('AT', 50), ('CA', 23), ('CA', 32), ('CA', 44), ('CC', 21), ('CC', 22), ('CC', 31), ('CC', 41), ('CC', 42), ('CC', 43), ('CG', 13), ('CT', 2), ('CT', 6), ('GA', 0), ('GA', 11), ('GA', 14), ('GA', 19), ('GA', 29), ('GA', 37), ('GA', 39), ('GA', 49), ('GC', 5), ('GG', 9), ('GG', 10), ('GG', 17), ('GG', 18), ('GT', 25), ('TA', 3), ('TA', 7), ('TA', 26), ('TA', 35), ('TA', 52), ('TG', 16), ('TT', 34), ('TT', 51)]\n"
     ]
    }
   ],
   "source": [
    "print(index.indexTable())"
   ]
  },
  {
   "cell_type": "code",
   "execution_count": 30,
   "metadata": {},
   "outputs": [
    {
     "data": {
      "text/plain": [
       "'GAC'"
      ]
     },
     "execution_count": 30,
     "metadata": {},
     "output_type": "execute_result"
    }
   ],
   "source": [
    "t[11:14]"
   ]
  },
  {
   "cell_type": "code",
   "execution_count": null,
   "metadata": {},
   "outputs": [],
   "source": []
  }
 ],
 "metadata": {
  "kernelspec": {
   "display_name": "Python 3",
   "language": "python",
   "name": "python3"
  },
  "language_info": {
   "codemirror_mode": {
    "name": "ipython",
    "version": 3
   },
   "file_extension": ".py",
   "mimetype": "text/x-python",
   "name": "python",
   "nbconvert_exporter": "python",
   "pygments_lexer": "ipython3",
   "version": "3.8.5"
  }
 },
 "nbformat": 4,
 "nbformat_minor": 4
}
