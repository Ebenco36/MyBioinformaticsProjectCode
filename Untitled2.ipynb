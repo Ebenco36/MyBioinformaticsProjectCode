{
 "cells": [
  {
   "cell_type": "code",
   "execution_count": 3,
   "metadata": {},
   "outputs": [],
   "source": [
    "class Node:\n",
    "    \"\"\" Class Node to represent a vertex in the de bruijn graph \"\"\"\n",
    "    def __init__(self, lab):\n",
    "        self.label = lab\n",
    "        self.indegree = 0\n",
    "        self.outdegree = 0\n",
    "\n",
    "class Edge:\n",
    "    def __init__(self, lab):\n",
    "        self.label = lab\n",
    "\n",
    "def read_reads(fname):\n",
    "    \"\"\" Read short reads in FASTA format. It is assumed that one line in the input file correspond to one read. \"\"\"\n",
    "    f = open(fname, 'r')\n",
    "    lines = f.readlines()\n",
    "    f.close()\n",
    "    reads = []\n",
    "\n",
    "    for line in lines:\n",
    "        if line[0] != '>':\n",
    "            reads = reads + [line.rstrip()]\n",
    "\n",
    "    return reads\n",
    "\n",
    "def construct_graph(reads, k):\n",
    "    \"\"\" Construct de bruijn graph from sets of short reads with k length word\"\"\"\n",
    "    edges = dict()\n",
    "    vertices = dict()\n",
    "\n",
    "    for read in reads:\n",
    "        i = 0\n",
    "        while i+k < len(read):\n",
    "            v1 = read[i:i+k]\n",
    "            v2 = read[i+1:i+k+1]\n",
    "            if v1 in edges.keys():\n",
    "                vertices[v1].outdegree += 1\n",
    "                edges[v1] += [Edge(v2)]\n",
    "            else:\n",
    "                vertices[v1] = Node(v1)\n",
    "                vertices[v1].outdegree += 1\n",
    "                edges[v1] = [Edge(v2)]\n",
    "            if v2 in edges.keys():\n",
    "                vertices[v2].indegree += 1\n",
    "            else:\n",
    "                vertices[v2] = Node(v2)\n",
    "                vertices[v2].indegree += 1\n",
    "                edges[v2] = []\n",
    "            i += 1\n",
    "\n",
    "    return (vertices, edges)\n",
    "\n",
    "def output_contigs(g):\n",
    "    \"\"\" Perform searching for Eulerian path in the graph to output genome assembly\"\"\"\n",
    "    V = g[0]\n",
    "    E = g[1]\n",
    "    # Pick starting node (the vertex with zero in degree)\n",
    "    start = V.keys()[0]\n",
    "    for k in V.keys():\n",
    "        if V[k].indegree < V[start].indegree:\n",
    "            start = k\n",
    "\n",
    "    contig = start\n",
    "    current = start\n",
    "    while len(E[current]) > 0:\n",
    "        # Pick the next node to be traversed (for now, at random)\n",
    "        next = E[current][0]\n",
    "        del E[current][0]\n",
    "        contig += next.label[-1]\n",
    "        current = next.label\n",
    "\n",
    "    return contig\n",
    "\n",
    "def print_graph(g):\n",
    "    \"\"\" Print the information in the graph to be (somewhat) presentable \"\"\"\n",
    "    V = g[0]\n",
    "    E = g[1]\n",
    "    for k in V.keys():\n",
    "        print (\"name: {} . indegree: {} . outdegree: {}\".format(V[k].label, V[k].indegree, V[k].outdegree))\n",
    "        print(\"Edges: \")\n",
    "        for e in E[k]:\n",
    "            print(e.label)\n",
    "        print"
   ]
  },
  {
   "cell_type": "code",
   "execution_count": 17,
   "metadata": {},
   "outputs": [
    {
     "ename": "KeyboardInterrupt",
     "evalue": "",
     "output_type": "error",
     "traceback": [
      "\u001b[0;31m---------------------------------------------------------------------------\u001b[0m",
      "\u001b[0;31mKeyboardInterrupt\u001b[0m                         Traceback (most recent call last)",
      "\u001b[0;32m<ipython-input-17-b67525e3f113>\u001b[0m in \u001b[0;36m<module>\u001b[0;34m\u001b[0m\n\u001b[1;32m      1\u001b[0m \u001b[0;31m# Main script\u001b[0m\u001b[0;34m\u001b[0m\u001b[0;34m\u001b[0m\u001b[0;34m\u001b[0m\u001b[0m\n\u001b[1;32m      2\u001b[0m \u001b[0mfname\u001b[0m \u001b[0;34m=\u001b[0m \u001b[0;34m'/Users/mac/Desktop/Bioinformatics/Bioinformatics/GENCODE/gencode.v35.lncRNA_transcripts.fa'\u001b[0m\u001b[0;34m\u001b[0m\u001b[0;34m\u001b[0m\u001b[0m\n\u001b[0;32m----> 3\u001b[0;31m \u001b[0mreads\u001b[0m \u001b[0;34m=\u001b[0m \u001b[0mread_reads\u001b[0m\u001b[0;34m(\u001b[0m\u001b[0mfname\u001b[0m\u001b[0;34m)\u001b[0m\u001b[0;34m\u001b[0m\u001b[0;34m\u001b[0m\u001b[0m\n\u001b[0m\u001b[1;32m      4\u001b[0m \u001b[0;31m# print reads\u001b[0m\u001b[0;34m\u001b[0m\u001b[0;34m\u001b[0m\u001b[0;34m\u001b[0m\u001b[0m\n\u001b[1;32m      5\u001b[0m \u001b[0;34m\u001b[0m\u001b[0m\n",
      "\u001b[0;32m<ipython-input-3-8ede8fb551b3>\u001b[0m in \u001b[0;36mread_reads\u001b[0;34m(fname)\u001b[0m\n\u001b[1;32m     19\u001b[0m     \u001b[0;32mfor\u001b[0m \u001b[0mline\u001b[0m \u001b[0;32min\u001b[0m \u001b[0mlines\u001b[0m\u001b[0;34m:\u001b[0m\u001b[0;34m\u001b[0m\u001b[0;34m\u001b[0m\u001b[0m\n\u001b[1;32m     20\u001b[0m         \u001b[0;32mif\u001b[0m \u001b[0mline\u001b[0m\u001b[0;34m[\u001b[0m\u001b[0;36m0\u001b[0m\u001b[0;34m]\u001b[0m \u001b[0;34m!=\u001b[0m \u001b[0;34m'>'\u001b[0m\u001b[0;34m:\u001b[0m\u001b[0;34m\u001b[0m\u001b[0;34m\u001b[0m\u001b[0m\n\u001b[0;32m---> 21\u001b[0;31m             \u001b[0mreads\u001b[0m \u001b[0;34m=\u001b[0m \u001b[0mreads\u001b[0m \u001b[0;34m+\u001b[0m \u001b[0;34m[\u001b[0m\u001b[0mline\u001b[0m\u001b[0;34m.\u001b[0m\u001b[0mrstrip\u001b[0m\u001b[0;34m(\u001b[0m\u001b[0;34m)\u001b[0m\u001b[0;34m]\u001b[0m\u001b[0;34m\u001b[0m\u001b[0;34m\u001b[0m\u001b[0m\n\u001b[0m\u001b[1;32m     22\u001b[0m \u001b[0;34m\u001b[0m\u001b[0m\n\u001b[1;32m     23\u001b[0m     \u001b[0;32mreturn\u001b[0m \u001b[0mreads\u001b[0m\u001b[0;34m\u001b[0m\u001b[0;34m\u001b[0m\u001b[0m\n",
      "\u001b[0;31mKeyboardInterrupt\u001b[0m: "
     ]
    }
   ],
   "source": [
    "# Main script\n",
    "fname = '/Users/mac/Desktop/Bioinformatics/Bioinformatics/GENCODE/gencode.v35.lncRNA_transcripts.fa'\n",
    "reads = read_reads(fname)\n",
    "# print reads\n",
    "\n",
    "test = ['bcdefg', 'defghi', 'abcd']\n",
    "# g = construct_graph(test, 3)\n",
    "g = construct_graph(reads, 11)\n",
    "# print_graph(g)\n",
    "# for k in g.keys():\n",
    "#   print k, g[k]\n",
    "# g = construct_graph(reads)\n",
    "contig = output_contigs(g)\n",
    "print(contig)"
   ]
  },
  {
   "cell_type": "code",
   "execution_count": 13,
   "metadata": {},
   "outputs": [
    {
     "name": "stdout",
     "output_type": "stream",
     "text": [
      "\u001b[31mNONCODEv5_human.fa\u001b[m\u001b[m                   \u001b[31mgencode.v35.lncRNA_transcripts.fa.gz\u001b[m\u001b[m\r\n",
      "\u001b[31mNONCODEv5_human.fa.gz\u001b[m\u001b[m                \u001b[31mgencode.v35.pc_transcripts.fa\u001b[m\u001b[m\r\n",
      "\u001b[31mgencode.v35.lncRNA_transcripts.fa\u001b[m\u001b[m    \u001b[31mgencode.v35.pc_transcripts.fa.gz\u001b[m\u001b[m\r\n"
     ]
    }
   ],
   "source": [
    "!ls ~/Desktop/Bioinformatics/Bioinformatics/GENCODE\n"
   ]
  },
  {
   "cell_type": "code",
   "execution_count": null,
   "metadata": {},
   "outputs": [],
   "source": []
  }
 ],
 "metadata": {
  "kernelspec": {
   "display_name": "Python 3",
   "language": "python",
   "name": "python3"
  },
  "language_info": {
   "codemirror_mode": {
    "name": "ipython",
    "version": 3
   },
   "file_extension": ".py",
   "mimetype": "text/x-python",
   "name": "python",
   "nbconvert_exporter": "python",
   "pygments_lexer": "ipython3",
   "version": "3.8.5"
  }
 },
 "nbformat": 4,
 "nbformat_minor": 4
}
